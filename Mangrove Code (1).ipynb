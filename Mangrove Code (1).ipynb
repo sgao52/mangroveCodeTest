{
 "cells": [
  {
   "cell_type": "code",
   "execution_count": 1,
   "id": "b5522540",
   "metadata": {},
   "outputs": [],
   "source": [
    "import ee\n",
    "import geemap\n",
    "import os\n",
    "import csv"
   ]
  },
  {
   "cell_type": "code",
   "execution_count": 2,
   "id": "a6edfebf",
   "metadata": {
    "scrolled": true
   },
   "outputs": [
    {
     "data": {
      "application/vnd.jupyter.widget-view+json": {
       "model_id": "5c55a71ee41848ddb31151fae2a7bf42",
       "version_major": 2,
       "version_minor": 0
      },
      "text/plain": [
       "Map(center=[20, 0], controls=(WidgetControl(options=['position', 'transparent_bg'], widget=HBox(children=(Togg…"
      ]
     },
     "metadata": {},
     "output_type": "display_data"
    }
   ],
   "source": [
    "Map =geemap.Map()\n",
    "Map\n"
   ]
  },
  {
   "cell_type": "code",
   "execution_count": 3,
   "id": "8935e68d",
   "metadata": {},
   "outputs": [],
   "source": [
    "# imput edited mangrove 2018 field data\n",
    "fieldData = r'C:\\Users\\sgao5\\Downloads\\OutputData\\OutputData\\MangroveHainan18Fielddata.shp'\n",
    "# fieldData = geemap.shp_to_ee(fieldData)\n",
    "# Map.addLayer(fieldData,{},'Mangrove Field data 2018')\n",
    "\n",
    "# add mangrove core area\n",
    "# corearea = r'C:\\Users\\sgao5\\Downloads\\OutputData\\OutputData\\CoreArea.shp'\n",
    "# corearea = geemap.shp_to_ee(corearea)\n",
    "# add Hainan province rectangle 111.087E, 18.122N. 108.455E, 20.076N\n",
    "Hainan = ee.Geometry.Rectangle([111.087, 18.122, 108.455, 20.076])\n",
    "\n",
    "# to mask clouds based on the pixel_qa band of Landsat 8 SR data \n",
    "def maskL8sr(image):\n",
    "  # Bits 3 and 5 are cloud shadow and cloud, respectively.\n",
    "  cloudShadowBitMask = (1 << 3)\n",
    "  cloudsBitMask = (1 << 5)\n",
    "  # Get the pixel QA band.\n",
    "  qa = image.select('pixel_qa')\n",
    "  # Both flags should be set to zero, indicating clear conditions.\n",
    "  mask = qa.bitwiseAnd(cloudShadowBitMask).eq(0) \\\n",
    "                 .And(qa.bitwiseAnd(cloudsBitMask).eq(0))\n",
    "  return image.updateMask(mask)\n",
    "\n",
    "# define image as landsat 8 SR dataset from May to August # Why use SR?\n",
    "image = ee.ImageCollection('LANDSAT/LC08/C01/T2_SR') \\\n",
    "    .filterBounds(Hainan) \\\n",
    "    .filterDate('2018-05-01', '2018-8-31') \\\n",
    "    .map(maskL8sr)\n",
    "image = image.mean()\n",
    "# set bands for prediction\n",
    "bands = ['B1','B2','B3','B4','B5','B6','B7'] # why bring B1 to this list?\n"
   ]
  },
  {
   "cell_type": "code",
   "execution_count": 16,
   "id": "dfa2a8e7",
   "metadata": {},
   "outputs": [],
   "source": [
    "# define training points\n",
    "mangrove_t = r'C:\\Users\\sgao5\\Downloads\\OutputData\\18TVmangrive\\mangrove18T.shp'\n",
    "mangrove_t_shp = geemap.shp_to_ee(mangrove_t)\n",
    "water_t = r'C:\\Users\\sgao5\\Downloads\\Training18Data\\Training18Data\\water18T.shp'\n",
    "water_t_shp = geemap.shp_to_ee(water_t)\n",
    "forest_t = r'C:\\Users\\sgao5\\Downloads\\Training18Data\\Training18Data\\forest18T.shp'\n",
    "forest_t_shp = geemap.shp_to_ee(forest_t)\n",
    "constructionLand_t = r'C:\\Users\\sgao5\\Downloads\\Training18Data\\Training18Data\\construct18T.shp'\n",
    "constructionLand_t_shp = geemap.shp_to_ee(constructionLand_t)\n",
    "cultivatedLand_t = r'C:\\Users\\sgao5\\Downloads\\Training18Data\\Training18Data\\culti18T.shp'\n",
    "cultivatedLand_t_shp = geemap.shp_to_ee(cultivatedLand_t)\n",
    "pond_t = r'C:\\Users\\sgao5\\Downloads\\Training18Data\\Training18Data\\pond18T.shp'\n",
    "pond_t_shp = geemap.shp_to_ee(pond_t)\n",
    "# define validating points\n",
    "mangrove_v = r\"C:\\Users\\sgao5\\Downloads\\OutputData\\18TVmangrive\\mangrove18V.shp\"\n",
    "mangrove_v_shp = geemap.shp_to_ee(mangrove_v)\n",
    "water_v = r\"C:\\Users\\sgao5\\Downloads\\Validation18Data\\Validation18Data\\water18V.shp\"\n",
    "water_v_shp = geemap.shp_to_ee(water_v)\n",
    "forest_v = r\"C:\\Users\\sgao5\\Downloads\\Validation18Data\\Validation18Data\\forest18V.shp\"\n",
    "forest_v_shp = geemap.shp_to_ee(forest_v)\n",
    "constructionLand_v = r\"C:\\Users\\sgao5\\Downloads\\Validation18Data\\Validation18Data\\construct18V.shp\"\n",
    "constructionLand_v_shp = geemap.shp_to_ee(constructionLand_v)\n",
    "cultivatedLand_v = r\"C:\\Users\\sgao5\\Downloads\\Validation18Data\\Validation18Data\\culti18V.shp\"\n",
    "cultivatedLand_v_shp = geemap.shp_to_ee(cultivatedLand_v)\n",
    "pond_v = r\"C:\\Users\\sgao5\\Downloads\\Validation18Data\\Validation18Data\\pond18V.shp\"\n",
    "pond_v_shp = geemap.shp_to_ee(pond_v)\n",
    "# merge points\n",
    "# mgt_points = mangrove_t_shp.merge(water_t_shp).merge(forest_t_shp).merge(cultivatedLand_t_shp).merge(pond_t_shp).merge(constructionLand_t_shp)\n",
    "# mgv_points = mangrove_v_shp.merge(water_v_shp).merge(forest_v_shp).merge(cultivatedLand_v_shp).merge(pond_v_shp).merge(constructionLand_v_shp)\n",
    "# mgt_points = mangrove_t_shp + water_t_shp + forest_t_shp + cultivatedLand_t_shp + pond_t_shp + constructionLand_t_shp\n",
    "# mgv_points = mangrove_v_shp + water_v_shp + forest_v_shp + cultivatedLand_v_shp + pond_v_shp + constructionLand_v_shp\n",
    "mgt_points = [\n",
    "    (mangrove_t, {'landcover':0}),\n",
    "    (water_t_shp, {'landcover':1}), \n",
    "    (forest_t_shp, {'landcover':2}), \n",
    "    (cultivatedLand_t_shp,{'landcover':3}), \n",
    "    (pond_t_shp,{'landcover':4}), \n",
    "    (constructionLand_t_shp,{'landcover':5})]\n",
    "mgv_points = [\n",
    "    (mangrove_v, {'landcover':0}),\n",
    "    (water_v_shp, {'landcover':1}), \n",
    "    (forest_v_shp, {'landcover':2}), \n",
    "    (cultivatedLand_v_shp,{'landcover':3}), \n",
    "    (pond_v_shp,{'landcover':4}), \n",
    "    (constructionLand_v_shp,{'landcover':5})]\n",
    "# landcover label\n",
    "# label = 'landcover'\n",
    "# Map.addLayer(mgpoints, {}, 'training points', False)"
   ]
  },
  {
   "cell_type": "code",
   "execution_count": 14,
   "id": "e4f96433",
   "metadata": {},
   "outputs": [
    {
     "ename": "EEException",
     "evalue": "Invalid GeoJSON geometry.",
     "output_type": "error",
     "traceback": [
      "\u001b[1;31m---------------------------------------------------------------------------\u001b[0m",
      "\u001b[1;31mEEException\u001b[0m                               Traceback (most recent call last)",
      "Input \u001b[1;32mIn [14]\u001b[0m, in \u001b[0;36m<module>\u001b[1;34m\u001b[0m\n\u001b[0;32m      1\u001b[0m \u001b[38;5;66;03m# overlay the points on the imagery to get training\u001b[39;00m\n\u001b[1;32m----> 2\u001b[0m training \u001b[38;5;241m=\u001b[39m \u001b[43mimage\u001b[49m\u001b[38;5;241;43m.\u001b[39;49m\u001b[43msampleRegions\u001b[49m\u001b[43m(\u001b[49m\u001b[38;5;241;43m*\u001b[39;49m\u001b[38;5;241;43m*\u001b[39;49m\u001b[43m{\u001b[49m\n\u001b[0;32m      3\u001b[0m \u001b[43m    \u001b[49m\u001b[38;5;124;43m'\u001b[39;49m\u001b[38;5;124;43mcollection\u001b[39;49m\u001b[38;5;124;43m'\u001b[39;49m\u001b[43m \u001b[49m\u001b[43m:\u001b[49m\u001b[43m \u001b[49m\u001b[43mmgt_points\u001b[49m\u001b[43m,\u001b[49m\n\u001b[0;32m      4\u001b[0m \u001b[43m    \u001b[49m\u001b[38;5;124;43m'\u001b[39;49m\u001b[38;5;124;43mscale\u001b[39;49m\u001b[38;5;124;43m'\u001b[39;49m\u001b[43m \u001b[49m\u001b[43m:\u001b[49m\u001b[43m \u001b[49m\u001b[38;5;241;43m30\u001b[39;49m\u001b[43m,\u001b[49m\n\u001b[0;32m      5\u001b[0m \u001b[43m    \u001b[49m\u001b[38;5;124;43m'\u001b[39;49m\u001b[38;5;124;43mproperties\u001b[39;49m\u001b[38;5;124;43m'\u001b[39;49m\u001b[43m \u001b[49m\u001b[43m:\u001b[49m\u001b[43m \u001b[49m\u001b[43m[\u001b[49m\u001b[38;5;124;43m'\u001b[39;49m\u001b[38;5;124;43mlandcover\u001b[39;49m\u001b[38;5;124;43m'\u001b[39;49m\u001b[43m]\u001b[49m\n\u001b[0;32m      6\u001b[0m \u001b[43m}\u001b[49m\u001b[43m)\u001b[49m\n\u001b[0;32m      7\u001b[0m         \u001b[38;5;66;03m# deleted .select(bands)\u001b[39;00m\n\u001b[0;32m      8\u001b[0m validating \u001b[38;5;241m=\u001b[39m image\u001b[38;5;241m.\u001b[39msampleRegions(\u001b[38;5;241m*\u001b[39m\u001b[38;5;241m*\u001b[39m{\n\u001b[0;32m      9\u001b[0m     \u001b[38;5;124m'\u001b[39m\u001b[38;5;124mcollection\u001b[39m\u001b[38;5;124m'\u001b[39m : mgv_points,\n\u001b[0;32m     10\u001b[0m     \u001b[38;5;124m'\u001b[39m\u001b[38;5;124mscale\u001b[39m\u001b[38;5;124m'\u001b[39m : \u001b[38;5;241m30\u001b[39m,\n\u001b[0;32m     11\u001b[0m     \u001b[38;5;124m'\u001b[39m\u001b[38;5;124mproperties\u001b[39m\u001b[38;5;124m'\u001b[39m : [\u001b[38;5;124m'\u001b[39m\u001b[38;5;124mlandcover\u001b[39m\u001b[38;5;124m'\u001b[39m]\n\u001b[0;32m     12\u001b[0m })\n",
      "File \u001b[1;32mD:\\Anaconda\\envs\\gee\\lib\\site-packages\\ee\\apifunction.py:205\u001b[0m, in \u001b[0;36mApiFunction.importApi.<locals>.MakeBoundFunction.<locals>.<lambda>\u001b[1;34m(*args, **kwargs)\u001b[0m\n\u001b[0;32m    203\u001b[0m \u001b[38;5;28;01mdef\u001b[39;00m \u001b[38;5;21mMakeBoundFunction\u001b[39m(func):\n\u001b[0;32m    204\u001b[0m   \u001b[38;5;66;03m# We need the lambda to capture \"func\" from the enclosing scope.\u001b[39;00m\n\u001b[1;32m--> 205\u001b[0m   \u001b[38;5;28;01mreturn\u001b[39;00m \u001b[38;5;28;01mlambda\u001b[39;00m \u001b[38;5;241m*\u001b[39margs, \u001b[38;5;241m*\u001b[39m\u001b[38;5;241m*\u001b[39mkwargs: \u001b[43mfunc\u001b[49m\u001b[38;5;241;43m.\u001b[39;49m\u001b[43mcall\u001b[49m\u001b[43m(\u001b[49m\u001b[38;5;241;43m*\u001b[39;49m\u001b[43margs\u001b[49m\u001b[43m,\u001b[49m\u001b[43m \u001b[49m\u001b[38;5;241;43m*\u001b[39;49m\u001b[38;5;241;43m*\u001b[39;49m\u001b[43mkwargs\u001b[49m\u001b[43m)\u001b[49m\n",
      "File \u001b[1;32mD:\\Anaconda\\envs\\gee\\lib\\site-packages\\ee\\function.py:67\u001b[0m, in \u001b[0;36mFunction.call\u001b[1;34m(self, *args, **kwargs)\u001b[0m\n\u001b[0;32m     55\u001b[0m \u001b[38;5;28;01mdef\u001b[39;00m \u001b[38;5;21mcall\u001b[39m(\u001b[38;5;28mself\u001b[39m, \u001b[38;5;241m*\u001b[39margs, \u001b[38;5;241m*\u001b[39m\u001b[38;5;241m*\u001b[39mkwargs):\n\u001b[0;32m     56\u001b[0m   \u001b[38;5;124;03m\"\"\"Calls the function with the given positional and keyword arguments.\u001b[39;00m\n\u001b[0;32m     57\u001b[0m \n\u001b[0;32m     58\u001b[0m \u001b[38;5;124;03m  Args:\u001b[39;00m\n\u001b[1;32m   (...)\u001b[0m\n\u001b[0;32m     65\u001b[0m \u001b[38;5;124;03m    to that type.\u001b[39;00m\n\u001b[0;32m     66\u001b[0m \u001b[38;5;124;03m  \"\"\"\u001b[39;00m\n\u001b[1;32m---> 67\u001b[0m   \u001b[38;5;28;01mreturn\u001b[39;00m \u001b[38;5;28;43mself\u001b[39;49m\u001b[38;5;241;43m.\u001b[39;49m\u001b[43mapply\u001b[49m\u001b[43m(\u001b[49m\u001b[38;5;28;43mself\u001b[39;49m\u001b[38;5;241;43m.\u001b[39;49m\u001b[43mnameArgs\u001b[49m\u001b[43m(\u001b[49m\u001b[43margs\u001b[49m\u001b[43m,\u001b[49m\u001b[43m \u001b[49m\u001b[43mkwargs\u001b[49m\u001b[43m)\u001b[49m\u001b[43m)\u001b[49m\n",
      "File \u001b[1;32mD:\\Anaconda\\envs\\gee\\lib\\site-packages\\ee\\function.py:80\u001b[0m, in \u001b[0;36mFunction.apply\u001b[1;34m(self, named_args)\u001b[0m\n\u001b[0;32m     69\u001b[0m \u001b[38;5;28;01mdef\u001b[39;00m \u001b[38;5;21mapply\u001b[39m(\u001b[38;5;28mself\u001b[39m, named_args):\n\u001b[0;32m     70\u001b[0m   \u001b[38;5;124;03m\"\"\"Calls the function with a dictionary of named arguments.\u001b[39;00m\n\u001b[0;32m     71\u001b[0m \n\u001b[0;32m     72\u001b[0m \u001b[38;5;124;03m  Args:\u001b[39;00m\n\u001b[1;32m   (...)\u001b[0m\n\u001b[0;32m     78\u001b[0m \u001b[38;5;124;03m    to that type.\u001b[39;00m\n\u001b[0;32m     79\u001b[0m \u001b[38;5;124;03m  \"\"\"\u001b[39;00m\n\u001b[1;32m---> 80\u001b[0m   result \u001b[38;5;241m=\u001b[39m computedobject\u001b[38;5;241m.\u001b[39mComputedObject(\u001b[38;5;28mself\u001b[39m, \u001b[38;5;28;43mself\u001b[39;49m\u001b[38;5;241;43m.\u001b[39;49m\u001b[43mpromoteArgs\u001b[49m\u001b[43m(\u001b[49m\u001b[43mnamed_args\u001b[49m\u001b[43m)\u001b[49m)\n\u001b[0;32m     81\u001b[0m   \u001b[38;5;28;01mreturn\u001b[39;00m Function\u001b[38;5;241m.\u001b[39m_promoter(result, \u001b[38;5;28mself\u001b[39m\u001b[38;5;241m.\u001b[39mgetReturnType())\n",
      "File \u001b[1;32mD:\\Anaconda\\envs\\gee\\lib\\site-packages\\ee\\function.py:107\u001b[0m, in \u001b[0;36mFunction.promoteArgs\u001b[1;34m(self, args)\u001b[0m\n\u001b[0;32m    105\u001b[0m name \u001b[38;5;241m=\u001b[39m spec[\u001b[38;5;124m'\u001b[39m\u001b[38;5;124mname\u001b[39m\u001b[38;5;124m'\u001b[39m]\n\u001b[0;32m    106\u001b[0m \u001b[38;5;28;01mif\u001b[39;00m name \u001b[38;5;129;01min\u001b[39;00m args:\n\u001b[1;32m--> 107\u001b[0m   promoted_args[name] \u001b[38;5;241m=\u001b[39m \u001b[43mFunction\u001b[49m\u001b[38;5;241;43m.\u001b[39;49m\u001b[43m_promoter\u001b[49m\u001b[43m(\u001b[49m\u001b[43margs\u001b[49m\u001b[43m[\u001b[49m\u001b[43mname\u001b[49m\u001b[43m]\u001b[49m\u001b[43m,\u001b[49m\u001b[43m \u001b[49m\u001b[43mspec\u001b[49m\u001b[43m[\u001b[49m\u001b[38;5;124;43m'\u001b[39;49m\u001b[38;5;124;43mtype\u001b[39;49m\u001b[38;5;124;43m'\u001b[39;49m\u001b[43m]\u001b[49m\u001b[43m)\u001b[49m\n\u001b[0;32m    108\u001b[0m \u001b[38;5;28;01melif\u001b[39;00m \u001b[38;5;129;01mnot\u001b[39;00m spec\u001b[38;5;241m.\u001b[39mget(\u001b[38;5;124m'\u001b[39m\u001b[38;5;124moptional\u001b[39m\u001b[38;5;124m'\u001b[39m):\n\u001b[0;32m    109\u001b[0m   \u001b[38;5;28;01mraise\u001b[39;00m ee_exception\u001b[38;5;241m.\u001b[39mEEException(\n\u001b[0;32m    110\u001b[0m       \u001b[38;5;124m'\u001b[39m\u001b[38;5;124mRequired argument (\u001b[39m\u001b[38;5;132;01m%s\u001b[39;00m\u001b[38;5;124m) missing to function: \u001b[39m\u001b[38;5;132;01m%s\u001b[39;00m\u001b[38;5;124m'\u001b[39m \u001b[38;5;241m%\u001b[39m (name, \u001b[38;5;28mself\u001b[39m))\n",
      "File \u001b[1;32mD:\\Anaconda\\envs\\gee\\lib\\site-packages\\ee\\__init__.py:230\u001b[0m, in \u001b[0;36m_Promote\u001b[1;34m(arg, klass)\u001b[0m\n\u001b[0;32m    228\u001b[0m     \u001b[38;5;28;01mreturn\u001b[39;00m arg\n\u001b[0;32m    229\u001b[0m   \u001b[38;5;28;01melse\u001b[39;00m:\n\u001b[1;32m--> 230\u001b[0m     \u001b[38;5;28;01mreturn\u001b[39;00m \u001b[43mFeatureCollection\u001b[49m\u001b[43m(\u001b[49m\u001b[43marg\u001b[49m\u001b[43m)\u001b[49m\n\u001b[0;32m    231\u001b[0m \u001b[38;5;28;01melif\u001b[39;00m klass \u001b[38;5;241m==\u001b[39m \u001b[38;5;124m'\u001b[39m\u001b[38;5;124mImageCollection\u001b[39m\u001b[38;5;124m'\u001b[39m:\n\u001b[0;32m    232\u001b[0m   \u001b[38;5;28;01mreturn\u001b[39;00m ImageCollection(arg)\n",
      "File \u001b[1;32mD:\\Anaconda\\envs\\gee\\lib\\site-packages\\ee\\computedobject.py:32\u001b[0m, in \u001b[0;36mComputedObjectMetaclass.__call__\u001b[1;34m(cls, *args, **kwargs)\u001b[0m\n\u001b[0;32m     30\u001b[0m   \u001b[38;5;28;01mreturn\u001b[39;00m args[\u001b[38;5;241m0\u001b[39m]\n\u001b[0;32m     31\u001b[0m \u001b[38;5;28;01melse\u001b[39;00m:\n\u001b[1;32m---> 32\u001b[0m   \u001b[38;5;28;01mreturn\u001b[39;00m \u001b[38;5;28;43mtype\u001b[39;49m\u001b[38;5;241;43m.\u001b[39;49m\u001b[38;5;21;43m__call__\u001b[39;49m\u001b[43m(\u001b[49m\u001b[38;5;28;43mcls\u001b[39;49m\u001b[43m,\u001b[49m\u001b[43m \u001b[49m\u001b[38;5;241;43m*\u001b[39;49m\u001b[43margs\u001b[49m\u001b[43m,\u001b[49m\u001b[43m \u001b[49m\u001b[38;5;241;43m*\u001b[39;49m\u001b[38;5;241;43m*\u001b[39;49m\u001b[43mkwargs\u001b[49m\u001b[43m)\u001b[49m\n",
      "File \u001b[1;32mD:\\Anaconda\\envs\\gee\\lib\\site-packages\\ee\\featurecollection.py:65\u001b[0m, in \u001b[0;36mFeatureCollection.__init__\u001b[1;34m(self, args, opt_column)\u001b[0m\n\u001b[0;32m     59\u001b[0m   \u001b[38;5;28msuper\u001b[39m(FeatureCollection, \u001b[38;5;28mself\u001b[39m)\u001b[38;5;241m.\u001b[39m\u001b[38;5;21m__init__\u001b[39m(\n\u001b[0;32m     60\u001b[0m       apifunction\u001b[38;5;241m.\u001b[39mApiFunction\u001b[38;5;241m.\u001b[39mlookup(\u001b[38;5;124m'\u001b[39m\u001b[38;5;124mCollection.loadTable\u001b[39m\u001b[38;5;124m'\u001b[39m), actual_args)\n\u001b[0;32m     61\u001b[0m \u001b[38;5;28;01melif\u001b[39;00m \u001b[38;5;28misinstance\u001b[39m(args, (\u001b[38;5;28mlist\u001b[39m, \u001b[38;5;28mtuple\u001b[39m)):\n\u001b[0;32m     62\u001b[0m   \u001b[38;5;66;03m# A list of features.\u001b[39;00m\n\u001b[0;32m     63\u001b[0m   \u001b[38;5;28msuper\u001b[39m(FeatureCollection, \u001b[38;5;28mself\u001b[39m)\u001b[38;5;241m.\u001b[39m\u001b[38;5;21m__init__\u001b[39m(\n\u001b[0;32m     64\u001b[0m       apifunction\u001b[38;5;241m.\u001b[39mApiFunction\u001b[38;5;241m.\u001b[39mlookup(\u001b[38;5;124m'\u001b[39m\u001b[38;5;124mCollection\u001b[39m\u001b[38;5;124m'\u001b[39m), {\n\u001b[1;32m---> 65\u001b[0m           \u001b[38;5;124m'\u001b[39m\u001b[38;5;124mfeatures\u001b[39m\u001b[38;5;124m'\u001b[39m: [feature\u001b[38;5;241m.\u001b[39mFeature(i) \u001b[38;5;28;01mfor\u001b[39;00m i \u001b[38;5;129;01min\u001b[39;00m args]\n\u001b[0;32m     66\u001b[0m       })\n\u001b[0;32m     67\u001b[0m \u001b[38;5;28;01melif\u001b[39;00m \u001b[38;5;28misinstance\u001b[39m(args, ee_list\u001b[38;5;241m.\u001b[39mList):\n\u001b[0;32m     68\u001b[0m   \u001b[38;5;66;03m# A computed list of features.\u001b[39;00m\n\u001b[0;32m     69\u001b[0m   \u001b[38;5;28msuper\u001b[39m(FeatureCollection, \u001b[38;5;28mself\u001b[39m)\u001b[38;5;241m.\u001b[39m\u001b[38;5;21m__init__\u001b[39m(\n\u001b[0;32m     70\u001b[0m       apifunction\u001b[38;5;241m.\u001b[39mApiFunction\u001b[38;5;241m.\u001b[39mlookup(\u001b[38;5;124m'\u001b[39m\u001b[38;5;124mCollection\u001b[39m\u001b[38;5;124m'\u001b[39m), {\n\u001b[0;32m     71\u001b[0m           \u001b[38;5;124m'\u001b[39m\u001b[38;5;124mfeatures\u001b[39m\u001b[38;5;124m'\u001b[39m: args\n\u001b[0;32m     72\u001b[0m       })\n",
      "File \u001b[1;32mD:\\Anaconda\\envs\\gee\\lib\\site-packages\\ee\\featurecollection.py:65\u001b[0m, in \u001b[0;36m<listcomp>\u001b[1;34m(.0)\u001b[0m\n\u001b[0;32m     59\u001b[0m   \u001b[38;5;28msuper\u001b[39m(FeatureCollection, \u001b[38;5;28mself\u001b[39m)\u001b[38;5;241m.\u001b[39m\u001b[38;5;21m__init__\u001b[39m(\n\u001b[0;32m     60\u001b[0m       apifunction\u001b[38;5;241m.\u001b[39mApiFunction\u001b[38;5;241m.\u001b[39mlookup(\u001b[38;5;124m'\u001b[39m\u001b[38;5;124mCollection.loadTable\u001b[39m\u001b[38;5;124m'\u001b[39m), actual_args)\n\u001b[0;32m     61\u001b[0m \u001b[38;5;28;01melif\u001b[39;00m \u001b[38;5;28misinstance\u001b[39m(args, (\u001b[38;5;28mlist\u001b[39m, \u001b[38;5;28mtuple\u001b[39m)):\n\u001b[0;32m     62\u001b[0m   \u001b[38;5;66;03m# A list of features.\u001b[39;00m\n\u001b[0;32m     63\u001b[0m   \u001b[38;5;28msuper\u001b[39m(FeatureCollection, \u001b[38;5;28mself\u001b[39m)\u001b[38;5;241m.\u001b[39m\u001b[38;5;21m__init__\u001b[39m(\n\u001b[0;32m     64\u001b[0m       apifunction\u001b[38;5;241m.\u001b[39mApiFunction\u001b[38;5;241m.\u001b[39mlookup(\u001b[38;5;124m'\u001b[39m\u001b[38;5;124mCollection\u001b[39m\u001b[38;5;124m'\u001b[39m), {\n\u001b[1;32m---> 65\u001b[0m           \u001b[38;5;124m'\u001b[39m\u001b[38;5;124mfeatures\u001b[39m\u001b[38;5;124m'\u001b[39m: [\u001b[43mfeature\u001b[49m\u001b[38;5;241;43m.\u001b[39;49m\u001b[43mFeature\u001b[49m\u001b[43m(\u001b[49m\u001b[43mi\u001b[49m\u001b[43m)\u001b[49m \u001b[38;5;28;01mfor\u001b[39;00m i \u001b[38;5;129;01min\u001b[39;00m args]\n\u001b[0;32m     66\u001b[0m       })\n\u001b[0;32m     67\u001b[0m \u001b[38;5;28;01melif\u001b[39;00m \u001b[38;5;28misinstance\u001b[39m(args, ee_list\u001b[38;5;241m.\u001b[39mList):\n\u001b[0;32m     68\u001b[0m   \u001b[38;5;66;03m# A computed list of features.\u001b[39;00m\n\u001b[0;32m     69\u001b[0m   \u001b[38;5;28msuper\u001b[39m(FeatureCollection, \u001b[38;5;28mself\u001b[39m)\u001b[38;5;241m.\u001b[39m\u001b[38;5;21m__init__\u001b[39m(\n\u001b[0;32m     70\u001b[0m       apifunction\u001b[38;5;241m.\u001b[39mApiFunction\u001b[38;5;241m.\u001b[39mlookup(\u001b[38;5;124m'\u001b[39m\u001b[38;5;124mCollection\u001b[39m\u001b[38;5;124m'\u001b[39m), {\n\u001b[0;32m     71\u001b[0m           \u001b[38;5;124m'\u001b[39m\u001b[38;5;124mfeatures\u001b[39m\u001b[38;5;124m'\u001b[39m: args\n\u001b[0;32m     72\u001b[0m       })\n",
      "File \u001b[1;32mD:\\Anaconda\\envs\\gee\\lib\\site-packages\\ee\\computedobject.py:32\u001b[0m, in \u001b[0;36mComputedObjectMetaclass.__call__\u001b[1;34m(cls, *args, **kwargs)\u001b[0m\n\u001b[0;32m     30\u001b[0m   \u001b[38;5;28;01mreturn\u001b[39;00m args[\u001b[38;5;241m0\u001b[39m]\n\u001b[0;32m     31\u001b[0m \u001b[38;5;28;01melse\u001b[39;00m:\n\u001b[1;32m---> 32\u001b[0m   \u001b[38;5;28;01mreturn\u001b[39;00m \u001b[38;5;28;43mtype\u001b[39;49m\u001b[38;5;241;43m.\u001b[39;49m\u001b[38;5;21;43m__call__\u001b[39;49m\u001b[43m(\u001b[49m\u001b[38;5;28;43mcls\u001b[39;49m\u001b[43m,\u001b[49m\u001b[43m \u001b[49m\u001b[38;5;241;43m*\u001b[39;49m\u001b[43margs\u001b[49m\u001b[43m,\u001b[49m\u001b[43m \u001b[49m\u001b[38;5;241;43m*\u001b[39;49m\u001b[38;5;241;43m*\u001b[39;49m\u001b[43mkwargs\u001b[49m\u001b[43m)\u001b[49m\n",
      "File \u001b[1;32mD:\\Anaconda\\envs\\gee\\lib\\site-packages\\ee\\feature.py:77\u001b[0m, in \u001b[0;36mFeature.__init__\u001b[1;34m(self, geom, opt_properties)\u001b[0m\n\u001b[0;32m     69\u001b[0m   \u001b[38;5;28msuper\u001b[39m(Feature, \u001b[38;5;28mself\u001b[39m)\u001b[38;5;241m.\u001b[39m\u001b[38;5;21m__init__\u001b[39m(feature_constructor, {\n\u001b[0;32m     70\u001b[0m       \u001b[38;5;124m'\u001b[39m\u001b[38;5;124mgeometry\u001b[39m\u001b[38;5;124m'\u001b[39m: geometry\u001b[38;5;241m.\u001b[39mGeometry(geom\u001b[38;5;241m.\u001b[39mget(\u001b[38;5;124m'\u001b[39m\u001b[38;5;124mgeometry\u001b[39m\u001b[38;5;124m'\u001b[39m, \u001b[38;5;28;01mNone\u001b[39;00m)),\n\u001b[0;32m     71\u001b[0m       \u001b[38;5;124m'\u001b[39m\u001b[38;5;124mmetadata\u001b[39m\u001b[38;5;124m'\u001b[39m: properties\n\u001b[0;32m     72\u001b[0m   })\n\u001b[0;32m     73\u001b[0m \u001b[38;5;28;01melse\u001b[39;00m:\n\u001b[0;32m     74\u001b[0m   \u001b[38;5;66;03m# Try to convert the geometry arg to a Geometry, in the hopes of it\u001b[39;00m\n\u001b[0;32m     75\u001b[0m   \u001b[38;5;66;03m# turning out to be GeoJSON.\u001b[39;00m\n\u001b[0;32m     76\u001b[0m   \u001b[38;5;28msuper\u001b[39m(Feature, \u001b[38;5;28mself\u001b[39m)\u001b[38;5;241m.\u001b[39m\u001b[38;5;21m__init__\u001b[39m(feature_constructor, {\n\u001b[1;32m---> 77\u001b[0m       \u001b[38;5;124m'\u001b[39m\u001b[38;5;124mgeometry\u001b[39m\u001b[38;5;124m'\u001b[39m: \u001b[43mgeometry\u001b[49m\u001b[38;5;241;43m.\u001b[39;49m\u001b[43mGeometry\u001b[49m\u001b[43m(\u001b[49m\u001b[43mgeom\u001b[49m\u001b[43m)\u001b[49m,\n\u001b[0;32m     78\u001b[0m       \u001b[38;5;124m'\u001b[39m\u001b[38;5;124mmetadata\u001b[39m\u001b[38;5;124m'\u001b[39m: opt_properties \u001b[38;5;129;01mor\u001b[39;00m \u001b[38;5;28;01mNone\u001b[39;00m\n\u001b[0;32m     79\u001b[0m   })\n",
      "File \u001b[1;32mD:\\Anaconda\\envs\\gee\\lib\\site-packages\\ee\\computedobject.py:32\u001b[0m, in \u001b[0;36mComputedObjectMetaclass.__call__\u001b[1;34m(cls, *args, **kwargs)\u001b[0m\n\u001b[0;32m     30\u001b[0m   \u001b[38;5;28;01mreturn\u001b[39;00m args[\u001b[38;5;241m0\u001b[39m]\n\u001b[0;32m     31\u001b[0m \u001b[38;5;28;01melse\u001b[39;00m:\n\u001b[1;32m---> 32\u001b[0m   \u001b[38;5;28;01mreturn\u001b[39;00m \u001b[38;5;28;43mtype\u001b[39;49m\u001b[38;5;241;43m.\u001b[39;49m\u001b[38;5;21;43m__call__\u001b[39;49m\u001b[43m(\u001b[49m\u001b[38;5;28;43mcls\u001b[39;49m\u001b[43m,\u001b[49m\u001b[43m \u001b[49m\u001b[38;5;241;43m*\u001b[39;49m\u001b[43margs\u001b[49m\u001b[43m,\u001b[49m\u001b[43m \u001b[49m\u001b[38;5;241;43m*\u001b[39;49m\u001b[38;5;241;43m*\u001b[39;49m\u001b[43mkwargs\u001b[49m\u001b[43m)\u001b[49m\n",
      "File \u001b[1;32mD:\\Anaconda\\envs\\gee\\lib\\site-packages\\ee\\geometry.py:84\u001b[0m, in \u001b[0;36mGeometry.__init__\u001b[1;34m(self, geo_json, opt_proj, opt_geodesic, opt_evenOdd)\u001b[0m\n\u001b[0;32m     81\u001b[0m   geo_json \u001b[38;5;241m=\u001b[39m geo_json\u001b[38;5;241m.\u001b[39mencode()\n\u001b[0;32m     83\u001b[0m \u001b[38;5;28;01mif\u001b[39;00m \u001b[38;5;129;01mnot\u001b[39;00m Geometry\u001b[38;5;241m.\u001b[39m_isValidGeometry(geo_json):\n\u001b[1;32m---> 84\u001b[0m   \u001b[38;5;28;01mraise\u001b[39;00m ee_exception\u001b[38;5;241m.\u001b[39mEEException(\u001b[38;5;124m'\u001b[39m\u001b[38;5;124mInvalid GeoJSON geometry.\u001b[39m\u001b[38;5;124m'\u001b[39m)\n\u001b[0;32m     86\u001b[0m \u001b[38;5;28msuper\u001b[39m(Geometry, \u001b[38;5;28mself\u001b[39m)\u001b[38;5;241m.\u001b[39m\u001b[38;5;21m__init__\u001b[39m(\u001b[38;5;28;01mNone\u001b[39;00m, \u001b[38;5;28;01mNone\u001b[39;00m)\n\u001b[0;32m     88\u001b[0m \u001b[38;5;66;03m# The type of the geometry.\u001b[39;00m\n",
      "\u001b[1;31mEEException\u001b[0m: Invalid GeoJSON geometry."
     ]
    }
   ],
   "source": [
    "# overlay the points on the imagery to get training\n",
    "training = image.sampleRegions(**{\n",
    "    'collection' : mgt_points,\n",
    "    'scale' : 30,\n",
    "    'properties' : ['landcover']\n",
    "})\n",
    "        # deleted .select(bands)\n",
    "validating = image.sampleRegions(**{\n",
    "    'collection' : mgv_points,\n",
    "    'scale' : 30,\n",
    "    'properties' : ['landcover']\n",
    "})\n",
    "# Adds a column of deterministic pseudorandom numbers/ split training and varification dataset\n",
    "trainingSample = training.randomColumn()\n",
    "validatingSample = validating.randomColumn()\n",
    "\n",
    "training = trainingSample.filter(ee.Filter.lt('random', 1))\n",
    "validation = validatingSample.filter(ee.Filter.lt('random', 1))"
   ]
  },
  {
   "cell_type": "code",
   "execution_count": 8,
   "id": "fbab9154",
   "metadata": {},
   "outputs": [
    {
     "ename": "NameError",
     "evalue": "name 'training' is not defined",
     "output_type": "error",
     "traceback": [
      "\u001b[1;31m---------------------------------------------------------------------------\u001b[0m",
      "\u001b[1;31mNameError\u001b[0m                                 Traceback (most recent call last)",
      "Input \u001b[1;32mIn [8]\u001b[0m, in \u001b[0;36m<module>\u001b[1;34m\u001b[0m\n\u001b[0;32m      1\u001b[0m \u001b[38;5;66;03m# Train the classifier\u001b[39;00m\n\u001b[1;32m----> 2\u001b[0m classifier \u001b[38;5;241m=\u001b[39m ee\u001b[38;5;241m.\u001b[39mClassifier\u001b[38;5;241m.\u001b[39msmileRandomForest(\u001b[38;5;241m10\u001b[39m)\u001b[38;5;241m.\u001b[39mtrain(\u001b[43mtraining\u001b[49m, label, bands)\n\u001b[0;32m      4\u001b[0m \u001b[38;5;66;03m# classify the image with the same bands used for training\u001b[39;00m\n\u001b[0;32m      5\u001b[0m result \u001b[38;5;241m=\u001b[39m image\u001b[38;5;241m.\u001b[39mselect(bands)\u001b[38;5;241m.\u001b[39mclassify(classifier)\n",
      "\u001b[1;31mNameError\u001b[0m: name 'training' is not defined"
     ]
    }
   ],
   "source": [
    "# Train the classifier\n",
    "classifier = ee.Classifier.smileRandomForest(10).train(training, label, bands)\n",
    "\n",
    "# classify the image with the same bands used for training\n",
    "result = image.select(bands).classify(classifier)\n",
    "# display the clusters with given colors\n",
    "vis_params = {\n",
    "    'min' : 1,\n",
    "    'max' : 6,\n",
    "    'palette' :['98ff00','62ffde','0b4a8b','fffff0','0dd66b','ff78d2']\n",
    "}\n",
    "Map.addLayer(result, vis_params, 'classified')\n"
   ]
  },
  {
   "cell_type": "code",
   "execution_count": null,
   "id": "734d421d",
   "metadata": {},
   "outputs": [],
   "source": [
    "# add map elements\n",
    "print('layer opacity:')\n",
    "clusterLayer = Map.layers[-1]\n",
    "clusterLayer.interact(opacity = (0,1,0.1))\n",
    "# add legend\n",
    "legend_dict = {\n",
    "    '0 mangrove' : '98ff00',\n",
    "    '1 water' : '62ffde',\n",
    "    '2 forest' : '0b4a8b',\n",
    "    '3 cultivated land' : 'fffff0',\n",
    "    '4 pond' : '0dd66b',\n",
    "    '5 construction land' : 'ff78d2'\n",
    "}\n",
    "Map.add_legend(legend_title = 'Hainan Mangrove Classification', legend_dict = legend_dict)\n",
    "Map"
   ]
  },
  {
   "cell_type": "code",
   "execution_count": null,
   "id": "ef0711db",
   "metadata": {},
   "outputs": [],
   "source": [
    "# Accuracy assessment\n",
    "trainingAccuracy = classifier.confusionMatrix()\n",
    "# validation dataset\n",
    "validated = validation.classify(classifier)\n",
    "testAccuracy = validated.errorMatrix('landcover', 'classification')"
   ]
  },
  {
   "cell_type": "code",
   "execution_count": null,
   "id": "b3342be9",
   "metadata": {},
   "outputs": [],
   "source": [
    "# Download confusion matrix\n",
    "out_dir = os.path.join(os.path.expanduser('~'), 'Downloads')\n",
    "training_csv = os.path.join(out_dir, 'train_accuracy.csv')\n",
    "testing_csv = os.path.join(out_dir, 'test_accuracy.csv')\n",
    "with open(training_csv, \"w\", newline=\"\") as f:\n",
    "    writer = csv.writer(f)\n",
    "    writer.writerows(trainingAccuracy.getInfo())\n",
    "with open(testing_csv, \"w\", newline=\"\") as f:\n",
    "    writer = csv.writer(f)\n",
    "    writer.writerows(testAccuracy.getInfo())\n",
    "# reclassify landcover map ?\n",
    "\n",
    "# export the raster\n",
    "# out_file = os.path.join(out_dir, 'mangroveClassification.tif')\n",
    "# geemap.ee_export_image(landcover, filename=out_file, scale=900)"
   ]
  }
 ],
 "metadata": {
  "kernelspec": {
   "display_name": "Python 3 (ipykernel)",
   "language": "python",
   "name": "python3"
  },
  "language_info": {
   "codemirror_mode": {
    "name": "ipython",
    "version": 3
   },
   "file_extension": ".py",
   "mimetype": "text/x-python",
   "name": "python",
   "nbconvert_exporter": "python",
   "pygments_lexer": "ipython3",
   "version": "3.8.12"
  }
 },
 "nbformat": 4,
 "nbformat_minor": 5
}
